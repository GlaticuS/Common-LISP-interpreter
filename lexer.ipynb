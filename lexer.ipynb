{
 "cells": [
  {
   "cell_type": "code",
   "execution_count": 31,
   "metadata": {
    "collapsed": true
   },
   "outputs": [],
   "source": [
    "import sys"
   ]
  },
  {
   "cell_type": "code",
   "execution_count": 33,
   "metadata": {},
   "outputs": [
    {
     "data": {
      "text/plain": [
       "'\\nScanner CLISP\\nComments are |# #|\\n\\nAuthor: Gladkikh Anna, 4103\\n'"
      ]
     },
     "execution_count": 33,
     "metadata": {},
     "output_type": "execute_result"
    }
   ],
   "source": [
    "\"\"\"\n",
    "Scanner CLISP\n",
    "Comments are |# #|\n",
    "\n",
    "Author: Gladkikh Anna, 4103\n",
    "\"\"\""
   ]
  },
  {
   "cell_type": "code",
   "execution_count": 34,
   "metadata": {
    "collapsed": true
   },
   "outputs": [],
   "source": [
    "key_words = {\n",
    "    'quote': -1,\n",
    "    '\\'': -1,\n",
    "    '(': -2,\n",
    "    ')': -3,\n",
    "    '+': -4,\n",
    "    '-': -5,\n",
    "    '*': -6,\n",
    "    '/': -7,\n",
    "    'car': -8,\n",
    "    'cdr': -9,\n",
    "    'cons': -10,\n",
    "    'atom': -11,\n",
    "    'eq': -12,\n",
    "    'listp': -13,\n",
    "    'null': -14,\n",
    "    'nil': -15,\n",
    "    'T': -16,\n",
    "    'if': -17,\n",
    "    'test': -18,\n",
    "    'then': -19,\n",
    "    'else': -20,\n",
    "    'first': -21,\n",
    "}\n",
    "#name_table = [['id', 'name', 'value', 'value_type']]"
   ]
  },
  {
   "cell_type": "code",
   "execution_count": 3,
   "metadata": {},
   "outputs": [],
   "source": [
    "from string import upper\n",
    "class StateMachine:\n",
    "    def __init__(self):\n",
    "        self.handlers = {}\n",
    "        self.startState = None\n",
    "        self.endStates = []\n",
    " \n",
    "    def add_state(self, name, handler, end_state=0):\n",
    "        name = upper(name)\n",
    "        self.handlers[name] = handler\n",
    "        if end_state:\n",
    "            self.endStates.append(name)\n",
    " \n",
    "    def set_start(self, name):\n",
    "        self.startState = upper(name)\n",
    " \n",
    "    def run(self, cargo):\n",
    "        try:\n",
    "            handler = self.handlers[self.startState]\n",
    "        except:\n",
    "            raise \"InitializationError\", \"must call .set_start() before .run()\"\n",
    "       \n",
    "        if not self.endStates:\n",
    "            raise  \"InitializationError\", \"at least one state must be an end_state\"\n",
    "       \n",
    "        while 1:\n",
    "            (newState, cargo) = handler(cargo)\n",
    "            if upper(newState) in self.endStates:\n",
    "                break\n",
    "            else:\n",
    "                handler = self.handlers[upper(newState)]"
   ]
  },
  {
   "cell_type": "code",
   "execution_count": 5,
   "metadata": {},
   "outputs": [],
   "source": [
    "def start_state(string):\n",
    "    global i\n",
    "    i = -1\n",
    "    nextState = \"NEXT\"\n",
    "    return (nextState, string)\n",
    "            \n",
    "def next_state(string):\n",
    "    global i\n",
    "    if i < len(string) -1:\n",
    "        i+=1\n",
    "        if i < len(string)-1:\n",
    "            if string[i] == '|' and string[i+1] == '#':\n",
    "                nextState = \"COMMENT\"\n",
    "        if string[i] == '\\n' or string[i] == ' ':\n",
    "            nextState = \"FINISH\"\n",
    "        if string[i] == '(' or string[i] == ')':\n",
    "            nextState = \"BRACKET\"\n",
    "        if string[i] == '\\\"':\n",
    "            nextState = \"STRING\"\n",
    "        if string[i] == '.':\n",
    "            nextState = \"ATOM\"\n",
    "        if string[i].isdigit():\n",
    "            nextState = \"ATOM\"\n",
    "        if string[i].isalpha():\n",
    "            nextState = \"NAME\"\n",
    "        if string[i] in key_words:\n",
    "            nextState = \"KEYWORD\"\n",
    "    else:\n",
    "        nextState = \"END\"\n",
    "    return (nextState, string)\n",
    "            \n",
    "def comment_state(string):\n",
    "    global i\n",
    "    print \"COMMENT state\",\n",
    "    if i < len(string)-1:\n",
    "        if string[i] == '|' and string[i+1] == '#':\n",
    "            while True:\n",
    "                i+=1\n",
    "                if string[i] == '#' and string[i+1] == '|':\n",
    "                    break\n",
    "    newState = \"NEXT\"\n",
    "    return (newState, string)\n",
    "\n",
    "def end_val(string):\n",
    "    pass\n",
    "\n",
    "def atom_state(string):\n",
    "    pass\n",
    "\n",
    "def error_state(string):\n",
    "    pass\n",
    "\n",
    "def keyword_state(string):\n",
    "    pass\n",
    "\n",
    "def name_state(string):\n",
    "    pass\n",
    "\n",
    "def string_state(string):\n",
    "    pass"
   ]
  },
  {
   "cell_type": "code",
   "execution_count": 6,
   "metadata": {
    "collapsed": true
   },
   "outputs": [],
   "source": [
    "def main():\n",
    "    with open(sys.argv[1], 'r') as myfile:\n",
    "        data=myfile.read()\n",
    "    myfile.close()\n",
    "    lex_flow = []\n",
    "    name_table = []\n",
    "    m = StateMachine()\n",
    "    m.add_state(\"START\", start_state)\n",
    "    m.add_state(\"NEXT\", next_state)\n",
    "    m.add_state(\"FINISH\", end_val)\n",
    "    m.add_state(\"END\", None, end_state = 1)\n",
    "    m.add_state(\"COMMENT\", comment_state)\n",
    "    m.add_state(\"ATOM\", atom_state)\n",
    "    m.add_state(\"ERROR\", error_state)\n",
    "    m.add_state(\"KEYWORD\", keyword_state)\n",
    "    m.add_state(\"NAME\", name_state)\n",
    "    m.add_state(\"STRING\", string_state)\n",
    "    m.set_start(\"START\")\n",
    "    m.run(data)\n",
    "    \n",
    "    #name_table, lex_flow = get_tokens(data)\n",
    "    with open('name_table.txt', 'w') as t:\n",
    "        for _list in name_table:\n",
    "            for _string in _list:\n",
    "                t.write(str(_string) + ' ')\n",
    "            t.write('\\n')\n",
    "    t.close()\n",
    "    l = open('lex_flow.txt', 'w')\n",
    "    for item in lex_flow:\n",
    "        l.write(\"%s \" % item)\n",
    "    l.close()"
   ]
  },
  {
   "cell_type": "code",
   "execution_count": 36,
   "metadata": {
    "collapsed": true
   },
   "outputs": [],
   "source": [
    "def isfloat(value):\n",
    "    try:\n",
    "        float(value)\n",
    "        return True\n",
    "    except ValueError:\n",
    "        return False"
   ]
  },
  {
   "cell_type": "code",
   "execution_count": 7,
   "metadata": {},
   "outputs": [
    {
     "data": {
      "text/plain": [
       "'def get_tokens(string):\\n    brackets = 0\\n    lex_flow = []\\n    name_table = []\\n    value = \\'\\'\\n    i = -1\\n    while i < len(string)-1:\\n        i+=1\\n        #STATE COMMENT\\n        if i < len(string)-1:\\n            if string[i] == \\'|\\' and string[i+1] == \\'#\\':\\n                while True:\\n                    i+=1\\n                    if string[i] == \\'#\\' and string[i+1] == \\'|\\':\\n                        break\\n                continue\\n        #END STATE\\n        if string[i] == \\'\\n\\' or string[i] == \\' \\':\\n            if len(value) != 0:\\n                #STATE ATOM\\n                if isfloat(value):\\n                    lex_flow.append(len(name_table))\\n                    name_table.append([len(name_table), value, value, \\'atom\\'])\\n                else:\\n                    if value[0].isdigit():\\n                        #STATE ERROR\\n                        sys.exit(\\'error name value!\\')\\n                        break\\n                    if value in key_words:\\n                        #STATE KEY WORD\\n                        lex_flow.append(key_words[value])\\n                    else:\\n                        #STATE NAME\\n                        lex_flow.append(len(name_table))\\n                        name_table.append([len(name_table), value, \\'-\\', \\'-\\'])\\n                #CLEAR\\n                value = \\'\\'\\n            continue\\n        if string[i] == \\'(\\' or string[i] == \\')\\':\\n            #STATE BRACKET\\n            if len(value) != 0:\\n                #STATE ATOM\\n                if isfloat(value):\\n                    lex_flow.append(len(name_table))\\n                    name_table.append([len(name_table), value, value, \\'integer\\'])        \\n                else:\\n                    if value[0].isdigit():\\n                        #STATE ERROR\\n                        sys.exit(\\'error name value!\\')\\n                        break\\n                    if value in key_words:\\n                        #STATE KEY WORD\\n                        lex_flow.append(key_words[value])\\n                    else:\\n                        #STATE NAME\\n                        lex_flow.append(len(name_table))\\n                        name_table.append([len(name_table), value, \\'-\\', \\'-\\'])\\n                #CLR\\n                value = \\'\\'\\n            #BR++\\n            brackets+=1\\n        if string[i] == \\'\"\\':\\n            #STATE STRING\\n            while True:\\n                value+=string[i]\\n                i+=1\\n                if string[i] == \\'\"\\':\\n                    value+=string[i]\\n                    #STATE NAME\\n                    lex_flow.append(len(name_table))\\n                    name_table.append([len(name_table), value, value, \\'string\\'])\\n                    value = \\'\\'\\n                    break\\n            continue\\n        if string[i] == \\'.\\':\\n            if isfloat(value):\\n                #STATE ATOM\\n                value+=string[i]\\n        if string[i].isdigit():\\n            #STATE ATOM\\n            value+=string[i]\\n        if string[i].isalpha():\\n            #STATE NAME\\n            value+=string[i]\\n        if string[i] in key_words:\\n            #STATE KEYWORD\\n            lex_flow.append(key_words[string[i]])\\n    \\n    if brackets%2 == 1:\\n        \\n        sys.exit(\\'syntax brackets error!\\')\\n        \\n    return name_table, lex_flow \\n'"
      ]
     },
     "execution_count": 7,
     "metadata": {},
     "output_type": "execute_result"
    }
   ],
   "source": [
    "\"\"\"def get_tokens(string):\n",
    "    brackets = 0\n",
    "    lex_flow = []\n",
    "    name_table = []\n",
    "    value = ''\n",
    "    i = -1\n",
    "    while i < len(string)-1:\n",
    "        i+=1\n",
    "        #STATE COMMENT\n",
    "        if i < len(string)-1:\n",
    "            if string[i] == '|' and string[i+1] == '#':\n",
    "                while True:\n",
    "                    i+=1\n",
    "                    if string[i] == '#' and string[i+1] == '|':\n",
    "                        break\n",
    "                continue\n",
    "        #END STATE\n",
    "        if string[i] == '\\n' or string[i] == ' ':\n",
    "            if len(value) != 0:\n",
    "                #STATE ATOM\n",
    "                if isfloat(value):\n",
    "                    lex_flow.append(len(name_table))\n",
    "                    name_table.append([len(name_table), value, value, 'atom'])\n",
    "                else:\n",
    "                    if value[0].isdigit():\n",
    "                        #STATE ERROR\n",
    "                        sys.exit('error name value!')\n",
    "                        break\n",
    "                    if value in key_words:\n",
    "                        #STATE KEY WORD\n",
    "                        lex_flow.append(key_words[value])\n",
    "                    else:\n",
    "                        #STATE NAME\n",
    "                        lex_flow.append(len(name_table))\n",
    "                        name_table.append([len(name_table), value, '-', '-'])\n",
    "                #CLEAR\n",
    "                value = ''\n",
    "            continue\n",
    "        if string[i] == '(' or string[i] == ')':\n",
    "            #STATE BRACKET\n",
    "            if len(value) != 0:\n",
    "                #STATE ATOM\n",
    "                if isfloat(value):\n",
    "                    lex_flow.append(len(name_table))\n",
    "                    name_table.append([len(name_table), value, value, 'integer'])        \n",
    "                else:\n",
    "                    if value[0].isdigit():\n",
    "                        #STATE ERROR\n",
    "                        sys.exit('error name value!')\n",
    "                        break\n",
    "                    if value in key_words:\n",
    "                        #STATE KEY WORD\n",
    "                        lex_flow.append(key_words[value])\n",
    "                    else:\n",
    "                        #STATE NAME\n",
    "                        lex_flow.append(len(name_table))\n",
    "                        name_table.append([len(name_table), value, '-', '-'])\n",
    "                #CLR\n",
    "                value = ''\n",
    "            #BR++\n",
    "            brackets+=1\n",
    "        if string[i] == '\\\"':\n",
    "            #STATE STRING\n",
    "            while True:\n",
    "                value+=string[i]\n",
    "                i+=1\n",
    "                if string[i] == '\\\"':\n",
    "                    value+=string[i]\n",
    "                    #STATE NAME\n",
    "                    lex_flow.append(len(name_table))\n",
    "                    name_table.append([len(name_table), value, value, 'string'])\n",
    "                    value = ''\n",
    "                    break\n",
    "            continue\n",
    "        if string[i] == '.':\n",
    "            if isfloat(value):\n",
    "                #STATE ATOM\n",
    "                value+=string[i]\n",
    "        if string[i].isdigit():\n",
    "            #STATE ATOM\n",
    "            value+=string[i]\n",
    "        if string[i].isalpha():\n",
    "            #STATE NAME\n",
    "            value+=string[i]\n",
    "        if string[i] in key_words:\n",
    "            #STATE KEYWORD\n",
    "            lex_flow.append(key_words[string[i]])\n",
    "    \n",
    "    if brackets%2 == 1:\n",
    "        \n",
    "        sys.exit('syntax brackets error!')\n",
    "        \n",
    "    return name_table, lex_flow \n",
    "\"\"\""
   ]
  },
  {
   "cell_type": "code",
   "execution_count": 38,
   "metadata": {},
   "outputs": [
    {
     "ename": "IOError",
     "evalue": "[Errno 2] No such file or directory: '-f'",
     "output_type": "error",
     "traceback": [
      "\u001b[1;31m---------------------------------------------------------------------------\u001b[0m",
      "\u001b[1;31mIOError\u001b[0m                                   Traceback (most recent call last)",
      "\u001b[1;32m<ipython-input-38-89026442c8a6>\u001b[0m in \u001b[0;36m<module>\u001b[1;34m()\u001b[0m\n\u001b[0;32m      1\u001b[0m \u001b[1;32mif\u001b[0m \u001b[0m__name__\u001b[0m \u001b[1;33m==\u001b[0m \u001b[1;34m\"__main__\"\u001b[0m\u001b[1;33m:\u001b[0m\u001b[1;33m\u001b[0m\u001b[0m\n\u001b[1;32m----> 2\u001b[1;33m     \u001b[0mmain\u001b[0m\u001b[1;33m(\u001b[0m\u001b[1;33m)\u001b[0m\u001b[1;33m\u001b[0m\u001b[0m\n\u001b[0m",
      "\u001b[1;32m<ipython-input-35-00bd52b7112f>\u001b[0m in \u001b[0;36mmain\u001b[1;34m()\u001b[0m\n\u001b[0;32m      1\u001b[0m \u001b[1;32mdef\u001b[0m \u001b[0mmain\u001b[0m\u001b[1;33m(\u001b[0m\u001b[1;33m)\u001b[0m\u001b[1;33m:\u001b[0m\u001b[1;33m\u001b[0m\u001b[0m\n\u001b[1;32m----> 2\u001b[1;33m     \u001b[1;32mwith\u001b[0m \u001b[0mopen\u001b[0m\u001b[1;33m(\u001b[0m\u001b[0msys\u001b[0m\u001b[1;33m.\u001b[0m\u001b[0margv\u001b[0m\u001b[1;33m[\u001b[0m\u001b[1;36m1\u001b[0m\u001b[1;33m]\u001b[0m\u001b[1;33m,\u001b[0m \u001b[1;34m'r'\u001b[0m\u001b[1;33m)\u001b[0m \u001b[1;32mas\u001b[0m \u001b[0mmyfile\u001b[0m\u001b[1;33m:\u001b[0m\u001b[1;33m\u001b[0m\u001b[0m\n\u001b[0m\u001b[0;32m      3\u001b[0m         \u001b[0mdata\u001b[0m\u001b[1;33m=\u001b[0m\u001b[0mmyfile\u001b[0m\u001b[1;33m.\u001b[0m\u001b[0mread\u001b[0m\u001b[1;33m(\u001b[0m\u001b[1;33m)\u001b[0m\u001b[1;33m\u001b[0m\u001b[0m\n\u001b[0;32m      4\u001b[0m     \u001b[0mmyfile\u001b[0m\u001b[1;33m.\u001b[0m\u001b[0mclose\u001b[0m\u001b[1;33m(\u001b[0m\u001b[1;33m)\u001b[0m\u001b[1;33m\u001b[0m\u001b[0m\n\u001b[0;32m      5\u001b[0m     \u001b[0mlex_flow\u001b[0m \u001b[1;33m=\u001b[0m \u001b[1;33m[\u001b[0m\u001b[1;33m]\u001b[0m\u001b[1;33m\u001b[0m\u001b[0m\n",
      "\u001b[1;31mIOError\u001b[0m: [Errno 2] No such file or directory: '-f'"
     ]
    }
   ],
   "source": [
    "if __name__ == \"__main__\":\n",
    "    main()"
   ]
  },
  {
   "cell_type": "code",
   "execution_count": null,
   "metadata": {
    "collapsed": true
   },
   "outputs": [],
   "source": []
  }
 ],
 "metadata": {
  "kernelspec": {
   "display_name": "Python 2",
   "language": "python",
   "name": "python2"
  },
  "language_info": {
   "codemirror_mode": {
    "name": "ipython",
    "version": 2
   },
   "file_extension": ".py",
   "mimetype": "text/x-python",
   "name": "python",
   "nbconvert_exporter": "python",
   "pygments_lexer": "ipython2",
   "version": "2.7.13"
  }
 },
 "nbformat": 4,
 "nbformat_minor": 2
}
